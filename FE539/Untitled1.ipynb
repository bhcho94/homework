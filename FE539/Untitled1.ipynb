{
 "cells": [
  {
   "cell_type": "code",
   "execution_count": 1,
   "metadata": {},
   "outputs": [
    {
     "data": {
      "text/plain": [
       "1329"
      ]
     },
     "execution_count": 1,
     "metadata": {},
     "output_type": "execute_result"
    }
   ],
   "source": [
    "import pandas as pd\n",
    "import math\n",
    "import numpy as np\n",
    "import matplotlib.pyplot as plt\n",
    "from mpl_toolkits.mplot3d import Axes3D\n",
    "import os\n",
    "import scipy.stats as si\n",
    "from sklearn.manifold import TSNE\n",
    "from sklearn.cluster import KMeans\n",
    "\n",
    "path = os.getcwd()\n",
    "path = 'C:/Users/USER-PC/Documents/GitHub/homework/FE539'\n",
    "S = 1500\n",
    "rf = 0.0265\n",
    "yields = pd.read_csv(path + '/yields.csv')\n",
    "data = pd.read_csv(path + '/data.csv')\n",
    "data = pd.read_csv(path + '/data.csv')\n",
    "data = data[data['days'] < 501]\n",
    "data = data[data['days'] > 10]\n",
    "d1 = data[(data['type'] == 'C') & (data['strike'] < S)]\n",
    "data = d1.append(data[(data['type'] == 'P') & (data['strike'] > S)])\n",
    "data = data[data['strike'] > 1000]\n",
    "data = data[data['strike'] < 2000]\n",
    "callput = data['type'].values\n",
    "T = (data['days']).values\n",
    "K = (data['strike']).values\n",
    "V = data['IV'].values\n",
    "P = data['price'].values\n",
    "len(data)"
   ]
  },
  {
   "cell_type": "code",
   "execution_count": 60,
   "metadata": {},
   "outputs": [],
   "source": [
    "def rbf_gaussian(x, c, beta):\n",
    "    return np.exp(-beta*(np.linalg.norm(x-c)**2))\n",
    "\n",
    "def rbf_multiquadratic(x, c, beta):\n",
    "    return np.sqrt(np.linalg.norm(x-c)**2 + beta**2)\n",
    "\n",
    "def rbf_thinplate(x, c, s):\n",
    "    return ((np.linalg.norm(x-c))**2)*np.log(np.linalg.norm(x-c))"
   ]
  },
  {
   "cell_type": "code",
   "execution_count": 61,
   "metadata": {},
   "outputs": [],
   "source": [
    "def kmeans(x, n):\n",
    "    k_means = KMeans(n_clusters = n).fit(x)\n",
    "    clusters = k_means.cluster_centers_\n",
    "    labels = (k_means.labels_)\n",
    "    distances = []\n",
    "    for i in range(len(labels)):\n",
    "        distances.append(np.linalg.norm(Xt[i] - clusters[labels[i]]))\n",
    "    df = pd.DataFrame({'cluster':labels, 'distance':distances})\n",
    "    stds = df.groupby(['cluster'])['distance'].std().values\n",
    "    return clusters, stds\n",
    "\n"
   ]
  },
  {
   "cell_type": "code",
   "execution_count": 64,
   "metadata": {},
   "outputs": [
    {
     "name": "stdout",
     "output_type": "stream",
     "text": [
      "[1380390.78073053 1997806.01582213 1159401.54506533  489910.19795462\n",
      "  399578.61836989]\n",
      "[   37521.94029607 -3963902.41734143]\n"
     ]
    }
   ],
   "source": [
    "class RBFNet(object):\n",
    "    def __init__(self, k = 5, lr = 0.01, epochs = 100, rbf = rbf_thinplate):\n",
    "        self.k = k\n",
    "        self.lr = lr\n",
    "        self.epochs = epochs\n",
    "        self.rbf = rbf\n",
    "        \n",
    "        self.w = np.array([np.random.randn(k), np.random.randn(k)]).T\n",
    "        self.b = np.random.randn(1)\n",
    "    def fit(self, X, y):\n",
    "        self.centers = kmeans(X, self.k)[0]\n",
    "        self.stds = kmeans(X, self.k)[1]\n",
    "        \n",
    "        for epoch in range(1):\n",
    "            for i in range(X.shape[0]):\n",
    "                a = np.array([self.rbf(X[i], c, s) for c, s in zip(self.centers, self.stds)])\n",
    "                print(a)\n",
    "                F = a.T.dot(self.w) + self.b\n",
    "                print(F)\n",
    "                break\n",
    "rbfn = RBFNet()\n",
    "y = V1\n",
    "rbfn.fit(Xt, y)"
   ]
  },
  {
   "cell_type": "code",
   "execution_count": 48,
   "metadata": {},
   "outputs": [
    {
     "name": "stdout",
     "output_type": "stream",
     "text": [
      "[[ 123.64705882 1798.52941176]\n",
      " [  49.71084337 1229.45783133]\n",
      " [ 481.66666667 1200.        ]\n",
      " [  57.08810573 1499.95594714]\n",
      " [  56.675      1079.475     ]\n",
      " [ 251.42682927 1387.68292683]\n",
      " [ 239.86363636 1140.68181818]\n",
      " [ 481.66666667 1590.38461538]\n",
      " [  51.40277778 1366.25      ]\n",
      " [ 229.37662338 1617.53246753]]\n",
      "[7 7 7 ... 0 0 0]\n"
     ]
    },
    {
     "data": {
      "text/plain": [
       "array([45.42232658, 20.82723236, 53.12218643, 25.32780519, 20.74906253,\n",
       "       24.88476818, 26.63107075, 85.02792412, 20.3829099 , 28.19478469])"
      ]
     },
     "execution_count": 48,
     "metadata": {},
     "output_type": "execute_result"
    }
   ],
   "source": [
    "Ta = np.array(T)\n",
    "Ka = np.array(K)\n",
    "Va = np.array(V)\n",
    "\n",
    "idx = np.random.randint(len(T), size=1000)\n",
    "K1 = Ka[idx]\n",
    "T1 = Ta[idx]\n",
    "V1 = Va[idx]\n",
    "X = np.array([T1, K1, V1]).T\n",
    "Xt = np.array([Ta, Ka]).T\n",
    "n_clusters = 10\n",
    "k_means = KMeans(n_clusters = n_clusters).fit(Xt)\n",
    "clusters = k_means.cluster_centers_\n",
    "labels = (k_means.labels_)\n",
    "t = np.array([Xt, clusters[labels]])\n",
    "\n",
    "print(clusters)\n",
    "print(labels)\n",
    "distances = []\n",
    "for i in range(len(labels)):\n",
    "    distances.append(np.linalg.norm(Xt[i] - clusters[labels[i]]))\n",
    "df = pd.DataFrame({'cluster':labels, 'distance':distances})\n",
    "df.groupby(['cluster'])['distance'].std().values"
   ]
  },
  {
   "cell_type": "code",
   "execution_count": null,
   "metadata": {},
   "outputs": [],
   "source": []
  },
  {
   "cell_type": "code",
   "execution_count": null,
   "metadata": {},
   "outputs": [],
   "source": []
  },
  {
   "cell_type": "code",
   "execution_count": null,
   "metadata": {},
   "outputs": [],
   "source": []
  }
 ],
 "metadata": {
  "kernelspec": {
   "display_name": "Python 3",
   "language": "python",
   "name": "python3"
  },
  "language_info": {
   "codemirror_mode": {
    "name": "ipython",
    "version": 3
   },
   "file_extension": ".py",
   "mimetype": "text/x-python",
   "name": "python",
   "nbconvert_exporter": "python",
   "pygments_lexer": "ipython3",
   "version": "3.7.0"
  }
 },
 "nbformat": 4,
 "nbformat_minor": 2
}
