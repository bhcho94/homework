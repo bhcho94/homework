{
 "cells": [
  {
   "cell_type": "code",
   "execution_count": 72,
   "metadata": {},
   "outputs": [
    {
     "data": {
      "text/plain": [
       "1329"
      ]
     },
     "execution_count": 72,
     "metadata": {},
     "output_type": "execute_result"
    }
   ],
   "source": [
    "import pandas as pd\n",
    "import math\n",
    "import numpy as np\n",
    "import matplotlib.pyplot as plt\n",
    "from mpl_toolkits.mplot3d import Axes3D\n",
    "import os\n",
    "import scipy.stats as si\n",
    "from sklearn.manifold import TSNE\n",
    "from sklearn.cluster import KMeans\n",
    "\n",
    "path = os.getcwd()\n",
    "path = 'C:/Users/USER-PC/Documents/GitHub/homework/FE539'\n",
    "S = 1500\n",
    "rf = 0.0265\n",
    "yields = pd.read_csv(path + '/yields.csv')\n",
    "data = pd.read_csv(path + '/data.csv')\n",
    "data = pd.read_csv(path + '/data.csv')\n",
    "data = data[data['days'] < 501]\n",
    "data = data[data['days'] > 10]\n",
    "d1 = data[(data['type'] == 'C') & (data['strike'] < S)]\n",
    "data = d1.append(data[(data['type'] == 'P') & (data['strike'] > S)])\n",
    "data = data[data['strike'] > 1000]\n",
    "data = data[data['strike'] < 2000]\n",
    "data['strike'] = data['strike']/S\n",
    "data['days'] = data['days']/365\n",
    "callput = data['type'].values\n",
    "T = (data['days']).values\n",
    "K = (data['strike']).values\n",
    "V = data['IV'].values\n",
    "P = data['price'].values\n",
    "len(data)"
   ]
  },
  {
   "cell_type": "code",
   "execution_count": 73,
   "metadata": {},
   "outputs": [],
   "source": [
    "def rbf_gaussian(x, c, beta):\n",
    "    return np.exp(-beta*(np.linalg.norm(x-c)**2))\n",
    "\n",
    "def rbf_multiquadratic(x, c, beta):\n",
    "    return np.sqrt(np.linalg.norm(x-c)**2 + beta**2)\n",
    "\n",
    "def rbf_thinplate(x, c, s):\n",
    "    return ((np.linalg.norm(x-c))**2)*np.log(np.linalg.norm(x-c))"
   ]
  },
  {
   "cell_type": "code",
   "execution_count": 74,
   "metadata": {},
   "outputs": [],
   "source": [
    "def kmeans(x, n):\n",
    "    k_means = KMeans(n_clusters = n).fit(x)\n",
    "    clusters = k_means.cluster_centers_\n",
    "    labels = (k_means.labels_)\n",
    "    distances = []\n",
    "    for i in range(len(labels)):\n",
    "        distances.append(np.linalg.norm(Xt[i] - clusters[labels[i]]))\n",
    "    df = pd.DataFrame({'cluster':labels, 'distance':distances})\n",
    "    stds = df.groupby(['cluster'])['distance'].std().values\n",
    "    return clusters, stds\n",
    "\n"
   ]
  },
  {
   "cell_type": "code",
   "execution_count": null,
   "metadata": {},
   "outputs": [],
   "source": [
    "class RBFNet(object):\n",
    "    def __init__(self, k = 5, lr = 0.01, epochs = 10, rbf = rbf_thinplate):\n",
    "        self.k = k\n",
    "        self.lr = lr\n",
    "        self.epochs = epochs\n",
    "        self.rbf = rbf\n",
    "        \n",
    "        self.w = np.random.randn(k)\n",
    "        self.b = np.random.randn(1)\n",
    "    def fit(self, X, y):\n",
    "        self.centers = kmeans(X, self.k)[0]\n",
    "        self.stds = kmeans(X, self.k)[1]\n",
    "        \n",
    "        for epoch in range(self.epochs):\n",
    "            for i in range(X.shape[0]):\n",
    "                a = np.array([self.rbf(X[i], c, s) for c, s in zip(self.centers, self.stds)])\n",
    "                F = a.T.dot(self.w) + self.b\n",
    "                e = -(y[i] - F)\n",
    "                self.w = self.w - self.lr*a*e\n",
    "                self.b = self.b - self.lr*e\n",
    "\n",
    "rbfn = RBFNet()\n",
    "y = Va\n",
    "rbfn.fit(Xt, y)\n",
    "print(1)\n",
    "print(rbfn.w)"
   ]
  },
  {
   "cell_type": "code",
   "execution_count": 77,
   "metadata": {},
   "outputs": [
    {
     "name": "stdout",
     "output_type": "stream",
     "text": [
      "[[0.80316781 1.04520833]\n",
      " [0.10788352 0.75812362]\n",
      " [1.3196347  1.06025641]\n",
      " [0.54234122 0.79878788]\n",
      " [0.07821427 0.92737374]\n",
      " [0.2964416  0.83648915]\n",
      " [1.3196347  0.8       ]\n",
      " [0.50991136 1.05686275]\n",
      " [0.80410959 0.8       ]\n",
      " [0.22263408 1.02925926]]\n",
      "[2 2 2 ... 9 9 9]\n"
     ]
    },
    {
     "data": {
      "text/plain": [
       "array([0.04365479, 0.02710276, 0.05151647, 0.0347723 , 0.02524294,\n",
       "       0.03784661, 0.03085202, 0.04768578, 0.03531251, 0.05575903])"
      ]
     },
     "execution_count": 77,
     "metadata": {},
     "output_type": "execute_result"
    }
   ],
   "source": [
    "Ta = np.array(T)\n",
    "Ka = np.array(K)\n",
    "Va = np.array(V)\n",
    "\n",
    "idx = np.random.randint(len(T), size=1000)\n",
    "K1 = Ka[idx]\n",
    "T1 = Ta[idx]\n",
    "V1 = Va[idx]\n",
    "X = np.array([T1, K1, V1]).T\n",
    "Xt = np.array([Ta, Ka]).T\n",
    "n_clusters = 10\n",
    "k_means = KMeans(n_clusters = n_clusters).fit(Xt)\n",
    "clusters = k_means.cluster_centers_\n",
    "labels = (k_means.labels_)\n",
    "t = np.array([Xt, clusters[labels]])\n",
    "\n",
    "print(clusters)\n",
    "print(labels)\n",
    "distances = []\n",
    "for i in range(len(labels)):\n",
    "    distances.append(np.linalg.norm(Xt[i] - clusters[labels[i]]))\n",
    "df = pd.DataFrame({'cluster':labels, 'distance':distances})\n",
    "df.groupby(['cluster'])['distance'].std().values"
   ]
  },
  {
   "cell_type": "code",
   "execution_count": null,
   "metadata": {},
   "outputs": [],
   "source": []
  },
  {
   "cell_type": "code",
   "execution_count": null,
   "metadata": {},
   "outputs": [],
   "source": []
  },
  {
   "cell_type": "code",
   "execution_count": null,
   "metadata": {},
   "outputs": [],
   "source": []
  }
 ],
 "metadata": {
  "kernelspec": {
   "display_name": "Python 3",
   "language": "python",
   "name": "python3"
  },
  "language_info": {
   "codemirror_mode": {
    "name": "ipython",
    "version": 3
   },
   "file_extension": ".py",
   "mimetype": "text/x-python",
   "name": "python",
   "nbconvert_exporter": "python",
   "pygments_lexer": "ipython3",
   "version": "3.7.0"
  }
 },
 "nbformat": 4,
 "nbformat_minor": 2
}
