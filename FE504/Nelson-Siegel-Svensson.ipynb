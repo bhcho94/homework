{
 "cells": [
  {
   "cell_type": "code",
   "execution_count": 227,
   "metadata": {},
   "outputs": [],
   "source": [
    "import numpy as np \n",
    "import pandas as pd\n",
    "from math import *\n",
    "from scipy.optimize import fmin\n",
    "import statsmodels.formula.api as sm\n",
    "import matplotlib.pyplot as plt\n",
    "import os"
   ]
  },
  {
   "cell_type": "code",
   "execution_count": 228,
   "metadata": {},
   "outputs": [],
   "source": [
    "#import the data, it is saved in the same directory as the notebook as a CSV \n",
    "path = os.getcwd()\n",
    "#import the data, it is saved in the same directory as the notebook as a CSV \n",
    "path = os.getcwd()\n",
    "data = pd.read_csv(path + '/GBOND20010731.csv')"
   ]
  },
  {
   "cell_type": "code",
   "execution_count": 229,
   "metadata": {},
   "outputs": [
    {
     "name": "stdout",
     "output_type": "stream",
     "text": [
      "[5.1, 5.03, 5.1, 5.05, 5.1]\n",
      "[0.26301369863013696, 0.26301369863013696, 0.26301369863013696, 0.26301369863013696, 0.43561643835616437]\n"
     ]
    }
   ],
   "source": [
    "#import the data, it is saved in the same directory as the notebook as a CSV \n",
    "path = os.getcwd()\n",
    "data = pd.read_csv(path + '/GBOND20010731.csv')\n",
    "\n",
    "#separating only yield rates and maturities\n",
    "yields = list(data['YTM'].values)\n",
    "#converting maturity to years\n",
    "maturities = list((data['TAU']/365).values)\n",
    "\n",
    "#print first 5 elements of each list to show\n",
    "print(yields[:5])\n",
    "print(maturities[:5])"
   ]
  },
  {
   "cell_type": "code",
   "execution_count": 236,
   "metadata": {},
   "outputs": [],
   "source": [
    "#NSSf is the forward rate function\n",
    "NSSf = lambda c, x: (c[0]) + (c[1]*(exp(-x/c[4]))) + c[2]*(x/c[4])*exp(-x/c[4]) + c[3]*(x/c[5])*exp(-x/c[5])\n",
    "\n",
    "#we use a lambda function with input c (a vector of our parameters) and x (maturity)\n",
    "NSS = lambda c, x: (c[0])+ (c[1]*((1- exp(-x/c[4]))/(x/c[4])))+ (c[2]*((((1-exp(-x/c[4]))/(x/c[4])))- (exp(-x/c[4]))))+ (c[3]*((((1-exp(-x/c[5]))/(x/c[5])))- (exp(-x/c[5]))))\n",
    "\n",
    "#we use another lambda function to define the error terms of the regression\n",
    "errors = lambda p, x, y: ((NSS(p,x)-y)**2).sum()"
   ]
  },
  {
   "cell_type": "code",
   "execution_count": 255,
   "metadata": {},
   "outputs": [
    {
     "name": "stdout",
     "output_type": "stream",
     "text": [
      "Optimization terminated successfully.\n",
      "         Current function value: 0.046818\n",
      "         Iterations: 729\n",
      "         Function evaluations: 1141\n"
     ]
    },
    {
     "data": {
      "text/plain": [
       "array([ 9.22554644, -4.38081498, -4.06010801,  1.62733262,  3.28711321,\n",
       "        0.98651383])"
      ]
     },
     "execution_count": 255,
     "metadata": {},
     "output_type": "execute_result"
    }
   ],
   "source": [
    "B0 = array([8.0, -3.0, -2, 3, 5, 2])\n",
    "yieldsarr = array(yields)\n",
    "maturitiesarr = array(maturities)\n",
    "result = fmin(errors, B0, args=(maturitiesarr, yieldsarr))\n",
    "result"
   ]
  },
  {
   "cell_type": "code",
   "execution_count": 258,
   "metadata": {},
   "outputs": [
    {
     "data": {
      "text/html": [
       "<div>\n",
       "<style scoped>\n",
       "    .dataframe tbody tr th:only-of-type {\n",
       "        vertical-align: middle;\n",
       "    }\n",
       "\n",
       "    .dataframe tbody tr th {\n",
       "        vertical-align: top;\n",
       "    }\n",
       "\n",
       "    .dataframe thead th {\n",
       "        text-align: right;\n",
       "    }\n",
       "</style>\n",
       "<table border=\"1\" class=\"dataframe\">\n",
       "  <thead>\n",
       "    <tr style=\"text-align: right;\">\n",
       "      <th></th>\n",
       "      <th>Spot Rate</th>\n",
       "      <th>Forward Rate</th>\n",
       "    </tr>\n",
       "  </thead>\n",
       "  <tbody>\n",
       "    <tr>\n",
       "      <th>0.001000</th>\n",
       "      <td>4.846477</td>\n",
       "      <td>4.845605</td>\n",
       "    </tr>\n",
       "    <tr>\n",
       "      <th>0.304020</th>\n",
       "      <td>5.257893</td>\n",
       "      <td>5.069373</td>\n",
       "    </tr>\n",
       "    <tr>\n",
       "      <th>0.607040</th>\n",
       "      <td>5.501275</td>\n",
       "      <td>5.229469</td>\n",
       "    </tr>\n",
       "    <tr>\n",
       "      <th>0.910061</th>\n",
       "      <td>5.648716</td>\n",
       "      <td>5.346439</td>\n",
       "    </tr>\n",
       "    <tr>\n",
       "      <th>1.213081</th>\n",
       "      <td>5.745807</td>\n",
       "      <td>5.434776</td>\n",
       "    </tr>\n",
       "  </tbody>\n",
       "</table>\n",
       "</div>"
      ],
      "text/plain": [
       "          Spot Rate  Forward Rate\n",
       "0.001000   4.846477      4.845605\n",
       "0.304020   5.257893      5.069373\n",
       "0.607040   5.501275      5.229469\n",
       "0.910061   5.648716      5.346439\n",
       "1.213081   5.745807      5.434776"
      ]
     },
     "execution_count": 258,
     "metadata": {},
     "output_type": "execute_result"
    }
   ],
   "source": [
    "plot_maturities = np.linspace(0.001, 30, 100)\n",
    "plot_maturities\n",
    "forwards = NSSf(result, plot_maturities)\n",
    "spot = NSS(result, plot_maturities)\n",
    "forwards = pd.DataFrame(forwards,plot_maturities)\n",
    "spot = pd.DataFrame(spot, plot_maturities)\n",
    "df = pd.merge(forwards, spot, left_index = True, right_index = True)\n",
    "df.columns = ['Spot Rate','Forward Rate']\n",
    "df.head(5)"
   ]
  },
  {
   "cell_type": "code",
   "execution_count": 262,
   "metadata": {},
   "outputs": [
    {
     "data": {
      "image/png": "[encoded data removed]",
      "text/plain": [
       "<Figure size 432x288 with 1 Axes>"
      ]
     },
     "metadata": {
      "needs_background": "light"
     },
     "output_type": "display_data"
    }
   ],
   "source": [
    "forward_rates = plt.plot(df['Forward Rate'])\n",
    "spot_rates = plt.plot(df['Spot Rate'])\n",
    "actual_yields = plt.scatter(maturities, yields, color = 'g')\n",
    "plt.title('NDS Yield Curve')\n",
    "plt.xlabel('Maturities (Years)')\n",
    "plt.ylabel('Yield (%)')\n",
    "plt.grid()\n",
    "plt.legend()\n",
    "plt.axis(xmin = 0, ymin = 4, xmax = 10, ymax = 10)\n",
    "plt.legend()\n",
    "plt.show()"
   ]
  },
  {
   "cell_type": "code",
   "execution_count": 235,
   "metadata": {},
   "outputs": [
    {
     "name": "stdout",
     "output_type": "stream",
     "text": [
      "Optimization terminated successfully.\n",
      "         Current function value: 0.142178\n",
      "         Iterations: 217\n",
      "         Function evaluations: 371\n",
      "[ 8.03587763e+00 -3.00208842e+00 -3.71197240e-03  1.20385799e-03\n",
      "  4.59078248e+00  4.58361570e+00]\n"
     ]
    }
   ],
   "source": [
    "\n",
    "import pylab\n",
    "from numpy import *\n",
    "from scipy.optimize import fmin\n",
    "import pandas as pd\n",
    "# parametric function, x is the independent variable\n",
    "# and c are the parameters.\n",
    "# it's a polynomial of degree 2\n",
    "fp = lambda c, x: (c[0])+ (c[1]*((1- exp(-x/c[4]))/(x/c[4])))+ (c[2]*((((1-exp(-x/c[4]))/(x/c[4])))- (exp(-x/c[4]))))+ (c[3]*((((1-exp(-x/c[5]))/(x/c[5])))- (exp(-x/c[5]))))\n",
    "real_p = array([0.02,0.01,0.01,0.01,1.00,1.00])\n",
    "\n",
    "# error function to minimize\n",
    "e = lambda p, x, y: ((fp(p,x)-y)**2).sum()\n",
    "\n",
    "# generating data with noise\n",
    "\n",
    "maturitiesarr = np.array(maturities)  #The periods for which data are available, skip the periods with empty rate\n",
    "yieldsarr = np.array(yields)  #Available rates only\n",
    "\n",
    "# fitting the data with fmin\n",
    "p0 = array([8, -3, 0, 0, 2, 5])  # initial parameter value\n",
    "p = fmin(errors, p0, args=(maturitiesarr,yieldsarr))\n",
    "c = p\n",
    "j=[]\n",
    "for h in range(1,31,1):\n",
    "    j.append((c[0])+ (c[1]*((1- exp(-h/c[4]))/(h/c[4])))+ (c[2]*((((1-exp(-h/c[4]))/(h/c[4])))- (exp(-h/c[4]))))+ (c[3]*((((1-exp(-h/c[5]))/(h/c[5])))- (exp(-h/c[5])))))\n",
    "\n",
    "print(p)"
   ]
  },
  {
   "cell_type": "code",
   "execution_count": 238,
   "metadata": {},
   "outputs": [
    {
     "data": {
      "text/plain": [
       "list"
      ]
     },
     "execution_count": 238,
     "metadata": {},
     "output_type": "execute_result"
    }
   ],
   "source": [
    "type(yields)"
   ]
  },
  {
   "cell_type": "code",
   "execution_count": null,
   "metadata": {},
   "outputs": [],
   "source": []
  }
 ],
 "metadata": {
  "kernelspec": {
   "display_name": "Python 3",
   "language": "python",
   "name": "python3"
  },
  "language_info": {
   "codemirror_mode": {
    "name": "ipython",
    "version": 3
   },
   "file_extension": ".py",
   "mimetype": "text/x-python",
   "name": "python",
   "nbconvert_exporter": "python",
   "pygments_lexer": "ipython3",
   "version": "3.7.0"
  }
 },
 "nbformat": 4,
 "nbformat_minor": 2
}
