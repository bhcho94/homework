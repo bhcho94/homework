{
 "cells": [
  {
   "cell_type": "code",
   "execution_count": 1,
   "metadata": {},
   "outputs": [],
   "source": [
    "import numpy as np \n",
    "import pandas as pd\n",
    "import math\n",
    "import statsmodels.formula.api as sm\n",
    "import matplotlib.pyplot as plt\n",
    "import os"
   ]
  },
  {
   "cell_type": "code",
   "execution_count": 4,
   "metadata": {},
   "outputs": [],
   "source": [
    "#import the data, it is saved in the same directory as the notebook as a CSV \n",
    "path = os.getcwd()\n",
    "#import the data, it is saved in the same directory as the notebook as a CSV \n",
    "path = os.getcwd()\n",
    "data = pd.read_csv(path + '/GBOND20010731.csv')"
   ]
  },
  {
   "cell_type": "code",
   "execution_count": 10,
   "metadata": {},
   "outputs": [
    {
     "name": "stdout",
     "output_type": "stream",
     "text": [
      "[5.1, 5.03, 5.1, 5.05, 5.1]\n",
      "[0.26301369863013696, 0.26301369863013696, 0.26301369863013696, 0.26301369863013696, 0.43561643835616437]\n"
     ]
    }
   ],
   "source": [
    "#import the data, it is saved in the same directory as the notebook as a CSV \n",
    "path = os.getcwd()\n",
    "data = pd.read_csv(path + '/GBOND20010731.csv')\n",
    "\n",
    "#separating only yield rates and maturities\n",
    "yields = list(data['YTM'].values)\n",
    "#converting maturity to years\n",
    "maturities = list((data['TAU']/365).values)\n",
    "\n",
    "#print first 5 elements of each list to show\n",
    "print(yields[:5])\n",
    "print(maturities[:5])"
   ]
  },
  {
   "cell_type": "code",
   "execution_count": 11,
   "metadata": {},
   "outputs": [],
   "source": [
    "#Nelson-Siegel discount function\n",
    "def NS(B0, B1, B2, tau, m):\n",
    "    return B0 + (B1+B2)*(1-math.exp(-m/tau))*(tau/m) - B2*math.exp(-m/tau)\n",
    "\n",
    "#NS_forward is the function to calculate the forward rate using the same parameters\n",
    "def NS_forward(B0, B1, B2, tau, m):\n",
    "    return B0 + B1*math.exp(-m/tau) + B2*(m/tau)*math.exp(-m/tau)\n",
    "\n",
    "#create two function X1 and X2 that are partof the 2nd and 3rd term of the NS equation, respectively\n",
    "#we use these to create X inputs for a linear regression\n",
    "def X1(tau, m):\n",
    "    return (1-math.exp(-m/tau))*(tau/m)\n",
    "\n",
    "def X2(tau, m):\n",
    "    return math.exp(-m/tau)"
   ]
  },
  {
   "cell_type": "code",
   "execution_count": 12,
   "metadata": {},
   "outputs": [
    {
     "data": {
      "text/plain": [
       "4.577615230460921"
      ]
     },
     "execution_count": 12,
     "metadata": {},
     "output_type": "execute_result"
    }
   ],
   "source": [
    "tau = 0\n",
    "curmin = 99\n",
    "for i in np.linspace(0.01, 30, 500):\n",
    "    x1 = []\n",
    "    x2 = []\n",
    "    for j in range(len(yields)):\n",
    "        x1.append(X1(i, maturities[j]))\n",
    "        x2.append(X2(i, maturities[j]))\n",
    "    df = pd.DataFrame({\"A\": yields, \"B\":x1, \"C\":x2})\n",
    "    result = sm.ols(formula = 'A ~ B + C', data=df).fit()\n",
    "    r = sum(result.resid**2)\n",
    "    if r < curmin:\n",
    "        curmin = r\n",
    "        tau = i\n",
    "\n",
    "tau"
   ]
  },
  {
   "cell_type": "code",
   "execution_count": 14,
   "metadata": {},
   "outputs": [
    {
     "name": "stdout",
     "output_type": "stream",
     "text": [
      "8.034548281030878 -3.019012794296195 0.009084637640675908 4.577615230460921\n"
     ]
    }
   ],
   "source": [
    "#using this value of tau we can now estimate our parameters for B0, B1, and B2\n",
    "\n",
    "x1 = []\n",
    "x2 = []\n",
    "for j in range(len(yields)):\n",
    "    x1.append(X1(tau, maturities[j]))\n",
    "    x2.append(X2(tau, maturities[j]))\n",
    "df = pd.DataFrame({\"A\": yields, \"B\":x1, \"C\":x2})\n",
    "result = sm.ols(formula = 'A ~ B + C', data=df).fit()\n",
    "B0, B1, B2 = result.params[0], result.params[1] - result.params[2], result.params[2]\n",
    "\n",
    "print(B0, B1, B2, tau)"
   ]
  },
  {
   "cell_type": "code",
   "execution_count": 19,
   "metadata": {},
   "outputs": [
    {
     "data": {
      "text/html": [
       "<div>\n",
       "<style scoped>\n",
       "    .dataframe tbody tr th:only-of-type {\n",
       "        vertical-align: middle;\n",
       "    }\n",
       "\n",
       "    .dataframe tbody tr th {\n",
       "        vertical-align: top;\n",
       "    }\n",
       "\n",
       "    .dataframe thead th {\n",
       "        text-align: right;\n",
       "    }\n",
       "</style>\n",
       "<table border=\"1\" class=\"dataframe\">\n",
       "  <thead>\n",
       "    <tr style=\"text-align: right;\">\n",
       "      <th></th>\n",
       "      <th>Forward Rate</th>\n",
       "      <th>Spot Rate</th>\n",
       "    </tr>\n",
       "    <tr>\n",
       "      <th>Maturity (Years)</th>\n",
       "      <th></th>\n",
       "      <th></th>\n",
       "    </tr>\n",
       "  </thead>\n",
       "  <tbody>\n",
       "    <tr>\n",
       "      <th>0.001</th>\n",
       "      <td>5.016197</td>\n",
       "      <td>5.015866</td>\n",
       "    </tr>\n",
       "    <tr>\n",
       "      <th>0.102</th>\n",
       "      <td>5.082260</td>\n",
       "      <td>5.049022</td>\n",
       "    </tr>\n",
       "    <tr>\n",
       "      <th>0.203</th>\n",
       "      <td>5.146878</td>\n",
       "      <td>5.081693</td>\n",
       "    </tr>\n",
       "    <tr>\n",
       "      <th>0.304</th>\n",
       "      <td>5.210081</td>\n",
       "      <td>5.113888</td>\n",
       "    </tr>\n",
       "    <tr>\n",
       "      <th>0.405</th>\n",
       "      <td>5.271900</td>\n",
       "      <td>5.145613</td>\n",
       "    </tr>\n",
       "  </tbody>\n",
       "</table>\n",
       "</div>"
      ],
      "text/plain": [
       "                  Forward Rate  Spot Rate\n",
       "Maturity (Years)                         \n",
       "0.001                 5.016197   5.015866\n",
       "0.102                 5.082260   5.049022\n",
       "0.203                 5.146878   5.081693\n",
       "0.304                 5.210081   5.113888\n",
       "0.405                 5.271900   5.145613"
      ]
     },
     "execution_count": 19,
     "metadata": {},
     "output_type": "execute_result"
    }
   ],
   "source": [
    "#now construct a dataframe of the calculated spot and forward rates from maturity 0 to 10 years\n",
    "NS_forward_yields = []\n",
    "NS_yield = []\n",
    "forward = 0\n",
    "ytm = 0\n",
    "result_dict = {}\n",
    "plot_maturities = np.linspace(0.001, 10, 100)\n",
    "for m in plot_maturities:\n",
    "    forward = (NS_forward(B0, B1, B2, tau, m))\n",
    "    ytm = (NS(B0,B1,B2, tau, m))\n",
    "    result_dict[m] = [forward, ytm]\n",
    "\n",
    "df = pd.DataFrame.from_dict(result_dict, orient = 'index')\n",
    "df.columns = ['Forward Rate','Spot Rate']\n",
    "df.index.name = 'Maturity (Years)'\n",
    "df.head(5)"
   ]
  },
  {
   "cell_type": "code",
   "execution_count": 20,
   "metadata": {},
   "outputs": [
    {
     "data": {
      "image/png": "[encoded data removed]",
      "text/plain": [
       "<Figure size 432x288 with 1 Axes>"
      ]
     },
     "metadata": {},
     "output_type": "display_data"
    }
   ],
   "source": [
    "forward_rates = plt.plot(df['Forward Rate'])\n",
    "spot_rates = plt.plot(df['Spot Rate'])\n",
    "actual_yields = plt.scatter(maturities, yields, color = 'g')\n",
    "plt.title('NS Yield Curve')\n",
    "plt.xlabel('Maturities (Years)')\n",
    "plt.ylabel('Yield (%)')\n",
    "plt.grid()\n",
    "plt.legend()\n",
    "plt.axis(xmin = 0, ymin = 4, xmax = 10, ymax = 8)\n",
    "plt.legend()\n",
    "plt.show()"
   ]
  },
  {
   "cell_type": "code",
   "execution_count": null,
   "metadata": {},
   "outputs": [],
   "source": []
  },
  {
   "cell_type": "code",
   "execution_count": null,
   "metadata": {},
   "outputs": [],
   "source": []
  }
 ],
 "metadata": {
  "kernelspec": {
   "display_name": "Python 3",
   "language": "python",
   "name": "python3"
  },
  "language_info": {
   "codemirror_mode": {
    "name": "ipython",
    "version": 3
   },
   "file_extension": ".py",
   "mimetype": "text/x-python",
   "name": "python",
   "nbconvert_exporter": "python",
   "pygments_lexer": "ipython3",
   "version": "3.6.5"
  }
 },
 "nbformat": 4,
 "nbformat_minor": 2
}
