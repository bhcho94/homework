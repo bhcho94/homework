{
 "cells": [
  {
   "cell_type": "code",
   "execution_count": 1,
   "metadata": {},
   "outputs": [],
   "source": [
    "import numpy as np \n",
    "import pandas as pd\n",
    "import math\n",
    "import statsmodels.formula.api as sm\n",
    "import matplotlib.pyplot as plt\n",
    "import os"
   ]
  },
  {
   "cell_type": "code",
   "execution_count": 4,
   "metadata": {},
   "outputs": [
    {
     "data": {
      "text/html": [
       "<div>\n",
       "<style scoped>\n",
       "    .dataframe tbody tr th:only-of-type {\n",
       "        vertical-align: middle;\n",
       "    }\n",
       "\n",
       "    .dataframe tbody tr th {\n",
       "        vertical-align: top;\n",
       "    }\n",
       "\n",
       "    .dataframe thead th {\n",
       "        text-align: right;\n",
       "    }\n",
       "</style>\n",
       "<table border=\"1\" class=\"dataframe\">\n",
       "  <thead>\n",
       "    <tr style=\"text-align: right;\">\n",
       "      <th></th>\n",
       "      <th>PRCP_AMT</th>\n",
       "      <th>YTM</th>\n",
       "      <th>PRICE</th>\n",
       "      <th>TRADE_AMT</th>\n",
       "      <th>TRADE_PRICE</th>\n",
       "      <th>TAU</th>\n",
       "      <th>MAT</th>\n",
       "    </tr>\n",
       "  </thead>\n",
       "  <tbody>\n",
       "    <tr>\n",
       "      <th>0</th>\n",
       "      <td>79900000</td>\n",
       "      <td>5.10</td>\n",
       "      <td>10275</td>\n",
       "      <td>10000000</td>\n",
       "      <td>10275000</td>\n",
       "      <td>96</td>\n",
       "      <td>731159</td>\n",
       "    </tr>\n",
       "    <tr>\n",
       "      <th>1</th>\n",
       "      <td>79900000</td>\n",
       "      <td>5.03</td>\n",
       "      <td>10277</td>\n",
       "      <td>10000000</td>\n",
       "      <td>10277000</td>\n",
       "      <td>96</td>\n",
       "      <td>731159</td>\n",
       "    </tr>\n",
       "    <tr>\n",
       "      <th>2</th>\n",
       "      <td>79900000</td>\n",
       "      <td>5.10</td>\n",
       "      <td>10276</td>\n",
       "      <td>10000000</td>\n",
       "      <td>10276000</td>\n",
       "      <td>96</td>\n",
       "      <td>731159</td>\n",
       "    </tr>\n",
       "    <tr>\n",
       "      <th>3</th>\n",
       "      <td>79900000</td>\n",
       "      <td>5.05</td>\n",
       "      <td>10278</td>\n",
       "      <td>10000000</td>\n",
       "      <td>10278000</td>\n",
       "      <td>96</td>\n",
       "      <td>731159</td>\n",
       "    </tr>\n",
       "    <tr>\n",
       "      <th>4</th>\n",
       "      <td>150000000</td>\n",
       "      <td>5.10</td>\n",
       "      <td>10106</td>\n",
       "      <td>10000000</td>\n",
       "      <td>10106000</td>\n",
       "      <td>159</td>\n",
       "      <td>731222</td>\n",
       "    </tr>\n",
       "  </tbody>\n",
       "</table>\n",
       "</div>"
      ],
      "text/plain": [
       "    PRCP_AMT   YTM  PRICE  TRADE_AMT  TRADE_PRICE  TAU     MAT\n",
       "0   79900000  5.10  10275   10000000     10275000   96  731159\n",
       "1   79900000  5.03  10277   10000000     10277000   96  731159\n",
       "2   79900000  5.10  10276   10000000     10276000   96  731159\n",
       "3   79900000  5.05  10278   10000000     10278000   96  731159\n",
       "4  150000000  5.10  10106   10000000     10106000  159  731222"
      ]
     },
     "execution_count": 4,
     "metadata": {},
     "output_type": "execute_result"
    }
   ],
   "source": [
    "#import the data, it is saved in the same directory as the notebook as a CSV \n",
    "path = os.getcwd()\n",
    "data = pd.read_csv(path + '/GBOND20010731.csv')\n",
    "data.head(5)"
   ]
  },
  {
   "cell_type": "code",
   "execution_count": 6,
   "metadata": {},
   "outputs": [
    {
     "data": {
      "text/plain": [
       "[5.1, 5.03, 5.1, 5.05, 5.1]"
      ]
     },
     "execution_count": 6,
     "metadata": {},
     "output_type": "execute_result"
    }
   ],
   "source": [
    "#separating only yield rates and maturities\n",
    "yields = list(data['YTM'].values)\n",
    "#converting maturity to years\n",
    "maturities = list((data['TAU']/365).values)\n",
    "\n",
    "#print first 5 elements of each list to show\n",
    "yields[:5]\n",
    "maturities[:5]"
   ]
  },
  {
   "cell_type": "code",
   "execution_count": 10,
   "metadata": {},
   "outputs": [],
   "source": [
    "#Nelson-Siegel discount function\n",
    "def NS(B0, B1, B2, tau, m):\n",
    "    return B0 + (B1+B2)*(1-math.exp(-m/tau))*(tau/m) - B2*math.exp(-m/tau)"
   ]
  },
  {
   "cell_type": "code",
   "execution_count": 11,
   "metadata": {},
   "outputs": [],
   "source": [
    "#create two function X1 and X2 that are partof the 2nd and 3rd term of the NS equation, respectively\n",
    "#we use these to create X inputs for a linear regression\n",
    "def X1(tau, m):\n",
    "    return (1-math.exp(-m/tau))*(tau/m)\n",
    "\n",
    "def X2(tau, m):\n",
    "    return math.exp(-m/tau)"
   ]
  },
  {
   "cell_type": "code",
   "execution_count": 12,
   "metadata": {},
   "outputs": [
    {
     "data": {
      "text/plain": [
       "5"
      ]
     },
     "execution_count": 12,
     "metadata": {},
     "output_type": "execute_result"
    }
   ],
   "source": [
    "tau = 0\n",
    "otau = 0\n",
    "curmin = 999\n",
    "for i in range(100):\n",
    "    if i == 0:\n",
    "        tau = 0.01\n",
    "    else:\n",
    "        tau = i\n",
    "    x1 = []\n",
    "    x2 = []\n",
    "    for j in range(len(yields)):\n",
    "        x1.append(X1(tau, maturities[j]))\n",
    "        x2.append(X2(tau, maturities[j]))\n",
    "    df = pd.DataFrame({\"A\": yields, \"B\":x1, \"C\":x2})\n",
    "    result = sm.ols(formula = 'A ~ B + C', data=df).fit()\n",
    "    r = sum(result.resid**2)\n",
    "    if r < curmin:\n",
    "        curmin = r\n",
    "        otau = tau\n",
    "\n",
    "tau = otau\n",
    "\n",
    "otau"
   ]
  },
  {
   "cell_type": "code",
   "execution_count": 13,
   "metadata": {},
   "outputs": [
    {
     "data": {
      "text/plain": [
       "4.585858585858586"
      ]
     },
     "execution_count": 13,
     "metadata": {},
     "output_type": "execute_result"
    }
   ],
   "source": [
    "#from here we see that tau = 5 gives us the smallest residual sum of squares\n",
    "#we test further to find a more accurate and precise tau value around 5\n",
    "for i in np.linspace(4, 6, 100):\n",
    "    x1 = []\n",
    "    x2 = []\n",
    "    for j in range(len(yields)):\n",
    "        x1.append(X1(i, maturities[j]))\n",
    "        x2.append(X2(i, maturities[j]))\n",
    "    df = pd.DataFrame({\"A\": yields, \"B\":x1, \"C\":x2})\n",
    "    result = sm.ols(formula = 'A ~ B + C', data=df).fit()\n",
    "    r = sum(result.resid**2)\n",
    "    if r < curmin:\n",
    "        curmin = r\n",
    "        tau = i\n",
    "\n",
    "tau"
   ]
  },
  {
   "cell_type": "code",
   "execution_count": 14,
   "metadata": {},
   "outputs": [
    {
     "name": "stdout",
     "output_type": "stream",
     "text": [
      "8.035120216580594 -3.0105155272920214 0.004568094334601369 4.585858585858586\n"
     ]
    }
   ],
   "source": [
    "#using this value of tau we can now estimate our parameters for B0, B1, and B2\n",
    "\n",
    "x1 = []\n",
    "x2 = []\n",
    "for j in range(len(yields)):\n",
    "    x1.append(X1(tau, maturities[j]))\n",
    "    x2.append(X2(tau, maturities[j]))\n",
    "df = pd.DataFrame({\"A\": yields, \"B\":x1, \"C\":x2})\n",
    "result = sm.ols(formula = 'A ~ B + C', data=df).fit()\n",
    "B0, B1, B2 = result.params[0], result.params[1] - result.params[2], result.params[2]\n",
    "\n",
    "print(B0, B1, B2, tau)"
   ]
  },
  {
   "cell_type": "code",
   "execution_count": 16,
   "metadata": {},
   "outputs": [],
   "source": [
    "#NS_forward is the function to calculate the forward rate using the above parameters\n",
    "def NS_forward(B0, B1, B2, tau, m):\n",
    "    return B0 + B1*math.exp(-m/tau) + B2*(m/tau)*math.exp(-m/tau)"
   ]
  },
  {
   "cell_type": "code",
   "execution_count": 20,
   "metadata": {},
   "outputs": [
    {
     "data": {
      "text/html": [
       "<div>\n",
       "<style scoped>\n",
       "    .dataframe tbody tr th:only-of-type {\n",
       "        vertical-align: middle;\n",
       "    }\n",
       "\n",
       "    .dataframe tbody tr th {\n",
       "        vertical-align: top;\n",
       "    }\n",
       "\n",
       "    .dataframe thead th {\n",
       "        text-align: right;\n",
       "    }\n",
       "</style>\n",
       "<table border=\"1\" class=\"dataframe\">\n",
       "  <thead>\n",
       "    <tr style=\"text-align: right;\">\n",
       "      <th></th>\n",
       "      <th>Forward Rate</th>\n",
       "      <th>Spot Rate</th>\n",
       "    </tr>\n",
       "    <tr>\n",
       "      <th>Maturity (Years)</th>\n",
       "      <th></th>\n",
       "      <th></th>\n",
       "    </tr>\n",
       "  </thead>\n",
       "  <tbody>\n",
       "    <tr>\n",
       "      <th>0.1</th>\n",
       "      <td>5.089639</td>\n",
       "      <td>5.057240</td>\n",
       "    </tr>\n",
       "    <tr>\n",
       "      <th>0.2</th>\n",
       "      <td>5.153269</td>\n",
       "      <td>5.089405</td>\n",
       "    </tr>\n",
       "    <tr>\n",
       "      <th>0.3</th>\n",
       "      <td>5.215524</td>\n",
       "      <td>5.121107</td>\n",
       "    </tr>\n",
       "    <tr>\n",
       "      <th>0.4</th>\n",
       "      <td>5.276435</td>\n",
       "      <td>5.152353</td>\n",
       "    </tr>\n",
       "    <tr>\n",
       "      <th>0.5</th>\n",
       "      <td>5.336029</td>\n",
       "      <td>5.183150</td>\n",
       "    </tr>\n",
       "  </tbody>\n",
       "</table>\n",
       "</div>"
      ],
      "text/plain": [
       "                  Forward Rate  Spot Rate\n",
       "Maturity (Years)                         \n",
       "0.1                   5.089639   5.057240\n",
       "0.2                   5.153269   5.089405\n",
       "0.3                   5.215524   5.121107\n",
       "0.4                   5.276435   5.152353\n",
       "0.5                   5.336029   5.183150"
      ]
     },
     "execution_count": 20,
     "metadata": {},
     "output_type": "execute_result"
    }
   ],
   "source": [
    "#now construct a dataframe of the calculated spot and forward rates from maturity 0 to 10 years\n",
    "NS_forward_yields = []\n",
    "NS_yield = []\n",
    "forward = 0\n",
    "ytm = 0\n",
    "result_dict = {}\n",
    "plot_maturities = np.linspace(0.1, 10, 100)\n",
    "for m in plot_maturities:\n",
    "    forward = (NS_forward(B0, B1, B2, tau, m))\n",
    "    ytm = (NS(B0,B1,B2, tau, m))\n",
    "    result_dict[m] = [forward, ytm]\n",
    "\n",
    "df = pd.DataFrame.from_dict(result_dict, orient = 'index')\n",
    "df.columns = ['Forward Rate','Spot Rate']\n",
    "df.index.name = 'Maturity (Years)'\n",
    "df.head(5)"
   ]
  },
  {
   "cell_type": "code",
   "execution_count": 22,
   "metadata": {},
   "outputs": [
    {
     "data": {
      "image/png": "[encoded data removed]",
      "text/plain": [
       "<Figure size 432x288 with 1 Axes>"
      ]
     },
     "metadata": {
      "needs_background": "light"
     },
     "output_type": "display_data"
    }
   ],
   "source": [
    "forward_rates = plt.plot(df['Forward Rate'])\n",
    "spot_rates = plt.plot(df['Spot Rate'])\n",
    "actual_yields = plt.scatter(maturities, yields, color = 'g')\n",
    "plt.title('NS Yield Curve')\n",
    "plt.xlabel('Maturities (Years)')\n",
    "plt.ylabel('Yield (%)')\n",
    "plt.grid()\n",
    "plt.legend()\n",
    "plt.axis(xmin = 0, ymin = 0, xmax = 10, ymax = 10)\n",
    "plt.legend()\n",
    "plt.show()"
   ]
  },
  {
   "cell_type": "code",
   "execution_count": null,
   "metadata": {},
   "outputs": [],
   "source": []
  },
  {
   "cell_type": "code",
   "execution_count": null,
   "metadata": {},
   "outputs": [],
   "source": []
  }
 ],
 "metadata": {
  "kernelspec": {
   "display_name": "Python 3",
   "language": "python",
   "name": "python3"
  },
  "language_info": {
   "codemirror_mode": {
    "name": "ipython",
    "version": 3
   },
   "file_extension": ".py",
   "mimetype": "text/x-python",
   "name": "python",
   "nbconvert_exporter": "python",
   "pygments_lexer": "ipython3",
   "version": "3.7.0"
  }
 },
 "nbformat": 4,
 "nbformat_minor": 2
}
